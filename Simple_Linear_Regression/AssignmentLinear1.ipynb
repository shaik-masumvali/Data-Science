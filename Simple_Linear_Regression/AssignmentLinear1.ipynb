{
  "cells": [
    {
      "cell_type": "markdown",
      "id": "6cd89fb1",
      "metadata": {
        "id": "6cd89fb1"
      },
      "source": [
        "# Assignment 4 (Simple Linear Regression)- Q 1"
      ]
    },
    {
      "cell_type": "code",
      "execution_count": null,
      "id": "acd6a33d",
      "metadata": {
        "id": "acd6a33d"
      },
      "outputs": [],
      "source": [
        "import pandas as pd\n",
        "import seaborn as sns\n",
        "import numpy as np\n",
        "import statsmodels.formula.api as smf\n",
        "time=pd.read_csv(C:/Users/Masum/Downloads/delivery_time.csv')"
      ]
    },
    {
      "cell_type": "code",
      "execution_count": null,
      "id": "237c3d6b",
      "metadata": {
        "id": "237c3d6b",
        "outputId": "7b8047fa-8bde-4b28-f0d8-a184498b80df"
      },
      "outputs": [
        {
          "data": {
            "text/html": [
              "<div>\n",
              "<style scoped>\n",
              "    .dataframe tbody tr th:only-of-type {\n",
              "        vertical-align: middle;\n",
              "    }\n",
              "\n",
              "    .dataframe tbody tr th {\n",
              "        vertical-align: top;\n",
              "    }\n",
              "\n",
              "    .dataframe thead th {\n",
              "        text-align: right;\n",
              "    }\n",
              "</style>\n",
              "<table border=\"1\" class=\"dataframe\">\n",
              "  <thead>\n",
              "    <tr style=\"text-align: right;\">\n",
              "      <th></th>\n",
              "      <th>Delivery Time</th>\n",
              "      <th>Sorting Time</th>\n",
              "    </tr>\n",
              "  </thead>\n",
              "  <tbody>\n",
              "    <tr>\n",
              "      <th>0</th>\n",
              "      <td>21.00</td>\n",
              "      <td>10</td>\n",
              "    </tr>\n",
              "    <tr>\n",
              "      <th>1</th>\n",
              "      <td>13.50</td>\n",
              "      <td>4</td>\n",
              "    </tr>\n",
              "    <tr>\n",
              "      <th>2</th>\n",
              "      <td>19.75</td>\n",
              "      <td>6</td>\n",
              "    </tr>\n",
              "    <tr>\n",
              "      <th>3</th>\n",
              "      <td>24.00</td>\n",
              "      <td>9</td>\n",
              "    </tr>\n",
              "    <tr>\n",
              "      <th>4</th>\n",
              "      <td>29.00</td>\n",
              "      <td>10</td>\n",
              "    </tr>\n",
              "  </tbody>\n",
              "</table>\n",
              "</div>"
            ],
            "text/plain": [
              "   Delivery Time  Sorting Time\n",
              "0          21.00            10\n",
              "1          13.50             4\n",
              "2          19.75             6\n",
              "3          24.00             9\n",
              "4          29.00            10"
            ]
          },
          "execution_count": 2,
          "metadata": {},
          "output_type": "execute_result"
        }
      ],
      "source": [
        "time.head()"
      ]
    },
    {
      "cell_type": "code",
      "execution_count": null,
      "id": "144335cd",
      "metadata": {
        "id": "144335cd",
        "outputId": "fdda9367-c89e-4675-cf93-b722d5f17f1a"
      },
      "outputs": [
        {
          "data": {
            "text/plain": [
              "(21, 2)"
            ]
          },
          "execution_count": 3,
          "metadata": {},
          "output_type": "execute_result"
        }
      ],
      "source": [
        "# Size of dataset (rows x columns)\n",
        "time.shape"
      ]
    },
    {
      "cell_type": "markdown",
      "id": "edc0f7b2",
      "metadata": {
        "id": "edc0f7b2"
      },
      "source": [
        "# EDA and Data Visualization"
      ]
    },
    {
      "cell_type": "code",
      "execution_count": null,
      "id": "3dd858eb",
      "metadata": {
        "id": "3dd858eb",
        "outputId": "9590bb82-1b69-4c1e-f57b-952f8e666e9a"
      },
      "outputs": [
        {
          "name": "stdout",
          "output_type": "stream",
          "text": [
            "<class 'pandas.core.frame.DataFrame'>\n",
            "RangeIndex: 21 entries, 0 to 20\n",
            "Data columns (total 2 columns):\n",
            " #   Column         Non-Null Count  Dtype  \n",
            "---  ------         --------------  -----  \n",
            " 0   Delivery Time  21 non-null     float64\n",
            " 1   Sorting Time   21 non-null     int64  \n",
            "dtypes: float64(1), int64(1)\n",
            "memory usage: 464.0 bytes\n"
          ]
        }
      ],
      "source": [
        "time.info()"
      ]
    },
    {
      "cell_type": "code",
      "execution_count": null,
      "id": "a09fb85f",
      "metadata": {
        "id": "a09fb85f",
        "outputId": "251747b5-047b-4896-86f7-ed160ef3d0c9"
      },
      "outputs": [
        {
          "data": {
            "text/html": [
              "<div>\n",
              "<style scoped>\n",
              "    .dataframe tbody tr th:only-of-type {\n",
              "        vertical-align: middle;\n",
              "    }\n",
              "\n",
              "    .dataframe tbody tr th {\n",
              "        vertical-align: top;\n",
              "    }\n",
              "\n",
              "    .dataframe thead th {\n",
              "        text-align: right;\n",
              "    }\n",
              "</style>\n",
              "<table border=\"1\" class=\"dataframe\">\n",
              "  <thead>\n",
              "    <tr style=\"text-align: right;\">\n",
              "      <th></th>\n",
              "      <th>Delivery Time</th>\n",
              "      <th>Sorting Time</th>\n",
              "    </tr>\n",
              "  </thead>\n",
              "  <tbody>\n",
              "    <tr>\n",
              "      <th>Delivery Time</th>\n",
              "      <td>1.000000</td>\n",
              "      <td>0.825997</td>\n",
              "    </tr>\n",
              "    <tr>\n",
              "      <th>Sorting Time</th>\n",
              "      <td>0.825997</td>\n",
              "      <td>1.000000</td>\n",
              "    </tr>\n",
              "  </tbody>\n",
              "</table>\n",
              "</div>"
            ],
            "text/plain": [
              "               Delivery Time  Sorting Time\n",
              "Delivery Time       1.000000      0.825997\n",
              "Sorting Time        0.825997      1.000000"
            ]
          },
          "execution_count": 5,
          "metadata": {},
          "output_type": "execute_result"
        }
      ],
      "source": [
        "# Correlation\n",
        "time.corr()"
      ]
    },
    {
      "cell_type": "code",
      "execution_count": null,
      "id": "74b0f2dd",
      "metadata": {
        "id": "74b0f2dd",
        "outputId": "f727cd83-8a38-4a13-fd54-2233e2696b7b"
      },
      "outputs": [
        {
          "name": "stderr",
          "output_type": "stream",
          "text": [
            "C:\\Users\\Lenovo\\anaconda3\\lib\\site-packages\\seaborn\\distributions.py:2557: FutureWarning: `distplot` is a deprecated function and will be removed in a future version. Please adapt your code to use either `displot` (a figure-level function with similar flexibility) or `histplot` (an axes-level function for histograms).\n",
            "  warnings.warn(msg, FutureWarning)\n"
          ]
        },
        {
          "data": {
            "text/plain": [
              "<AxesSubplot:xlabel='Delivery Time', ylabel='Density'>"
            ]
          },
          "execution_count": 6,
          "metadata": {},
          "output_type": "execute_result"
        },
        {
          "data": {
            "image/png": "[encoded data removed]",
            "text/plain": [
              "<Figure size 432x288 with 1 Axes>"
            ]
          },
          "metadata": {
            "needs_background": "light"
          },
          "output_type": "display_data"
        }
      ],
      "source": [
        "sns.distplot(time['Delivery Time'])"
      ]
    },
    {
      "cell_type": "code",
      "execution_count": null,
      "id": "db2201da",
      "metadata": {
        "id": "db2201da",
        "outputId": "0ffb5865-ec75-48e7-8281-264e5e4dd7c2"
      },
      "outputs": [
        {
          "name": "stderr",
          "output_type": "stream",
          "text": [
            "C:\\Users\\Lenovo\\anaconda3\\lib\\site-packages\\seaborn\\distributions.py:2557: FutureWarning: `distplot` is a deprecated function and will be removed in a future version. Please adapt your code to use either `displot` (a figure-level function with similar flexibility) or `histplot` (an axes-level function for histograms).\n",
            "  warnings.warn(msg, FutureWarning)\n"
          ]
        },
        {
          "data": {
            "text/plain": [
              "<AxesSubplot:xlabel='Sorting Time', ylabel='Density'>"
            ]
          },
          "execution_count": 7,
          "metadata": {},
          "output_type": "execute_result"
        },
        {
          "data": {
            "image/png": "[encoded data removed]",
            "text/plain": [
              "<Figure size 432x288 with 1 Axes>"
            ]
          },
          "metadata": {
            "needs_background": "light"
          },
          "output_type": "display_data"
        }
      ],
      "source": [
        "sns.distplot(time['Sorting Time'])"
      ]
    },
    {
      "cell_type": "code",
      "execution_count": null,
      "id": "3caa68f6",
      "metadata": {
        "id": "3caa68f6"
      },
      "outputs": [],
      "source": [
        "# Rename columns\n",
        "time1 = time.rename({'Delivery Time': 'Delivery_time','Sorting Time':'Sorting_time'}, axis=1)"
      ]
    },
    {
      "cell_type": "markdown",
      "id": "ed2f1ef2",
      "metadata": {
        "id": "ed2f1ef2"
      },
      "source": [
        "# Model Building"
      ]
    },
    {
      "cell_type": "code",
      "execution_count": null,
      "id": "85454f43",
      "metadata": {
        "id": "85454f43"
      },
      "outputs": [],
      "source": [
        "model = smf.ols(\"Delivery_time~Sorting_time\",data = time1).fit()   # y ~ x"
      ]
    },
    {
      "cell_type": "code",
      "execution_count": null,
      "id": "63f3a06f",
      "metadata": {
        "id": "63f3a06f",
        "outputId": "dff13aff-140d-4651-f4bf-2f57f719b518"
      },
      "outputs": [
        {
          "data": {
            "text/plain": [
              "<AxesSubplot:xlabel='Sorting_time', ylabel='Delivery_time'>"
            ]
          },
          "execution_count": 10,
          "metadata": {},
          "output_type": "execute_result"
        },
        {
          "data": {
            "image/png": "[encoded data removed]",
            "text/plain": [
              "<Figure size 432x288 with 1 Axes>"
            ]
          },
          "metadata": {
            "needs_background": "light"
          },
          "output_type": "display_data"
        }
      ],
      "source": [
        "# Regression plot\n",
        "sns.regplot(x='Sorting_time',y='Delivery_time',data=time1)"
      ]
    },
    {
      "cell_type": "code",
      "execution_count": null,
      "id": "76339905",
      "metadata": {
        "id": "76339905",
        "outputId": "92da8294-f273-4955-bf5c-ff2df94a6390"
      },
      "outputs": [
        {
          "data": {
            "text/plain": [
              "Intercept       6.582734\n",
              "Sorting_time    1.649020\n",
              "dtype: float64"
            ]
          },
          "execution_count": 11,
          "metadata": {},
          "output_type": "execute_result"
        }
      ],
      "source": [
        "# Coefficient parameters\n",
        "model.params"
      ]
    },
    {
      "cell_type": "code",
      "execution_count": null,
      "id": "1626b393",
      "metadata": {
        "id": "1626b393",
        "outputId": "dc89cde9-083d-4e3b-8cb4-879e393e08e9"
      },
      "outputs": [
        {
          "data": {
            "text/plain": [
              "(Intercept       3.823349\n",
              " Sorting_time    6.387447\n",
              " dtype: float64,\n",
              " Intercept       0.001147\n",
              " Sorting_time    0.000004\n",
              " dtype: float64)"
            ]
          },
          "execution_count": 12,
          "metadata": {},
          "output_type": "execute_result"
        }
      ],
      "source": [
        "# t-value and p-value\n",
        "model.tvalues , model.pvalues"
      ]
    },
    {
      "cell_type": "code",
      "execution_count": null,
      "id": "71f531b8",
      "metadata": {
        "id": "71f531b8",
        "outputId": "3ff914eb-a00e-476b-e855-f7e73a5a8afc"
      },
      "outputs": [
        {
          "data": {
            "text/plain": [
              "(0.6822714748417231, 0.6655489208860244)"
            ]
          },
          "execution_count": 13,
          "metadata": {},
          "output_type": "execute_result"
        }
      ],
      "source": [
        "# Rsquared value\n",
        "model.rsquared ,model.rsquared_adj"
      ]
    },
    {
      "cell_type": "code",
      "execution_count": null,
      "id": "21bfbe03",
      "metadata": {
        "id": "21bfbe03",
        "outputId": "acabbaba-27dc-4847-c114-5e1c984d8892"
      },
      "outputs": [
        {
          "data": {
            "text/plain": [
              "18.125874"
            ]
          },
          "execution_count": 14,
          "metadata": {},
          "output_type": "execute_result"
        }
      ],
      "source": [
        "# Manual prediction for say sorting time 7\n",
        "Delivery_time = (6.582734) + (1.649020)*(7)    # y = mx + c (Intercept c = 6.582734 & Slope m =1.649020)\n",
        "Delivery_time"
      ]
    },
    {
      "cell_type": "code",
      "execution_count": null,
      "id": "1d69e4ef",
      "metadata": {
        "id": "1d69e4ef",
        "outputId": "9e216139-0131-4625-d984-a15cb81d5bae"
      },
      "outputs": [
        {
          "data": {
            "text/plain": [
              "0    7\n",
              "1    4\n",
              "dtype: int64"
            ]
          },
          "execution_count": 15,
          "metadata": {},
          "output_type": "execute_result"
        }
      ],
      "source": [
        "# Automatic Prediction for say sorting time 7, 4\n",
        "newdata=pd.Series([7,4])\n",
        "newdata"
      ]
    },
    {
      "cell_type": "code",
      "execution_count": null,
      "id": "6ff11083",
      "metadata": {
        "id": "6ff11083"
      },
      "outputs": [],
      "source": [
        "data_pred=pd.DataFrame(newdata,columns=['Sorting_time'])"
      ]
    },
    {
      "cell_type": "code",
      "execution_count": null,
      "id": "12772b8a",
      "metadata": {
        "id": "12772b8a",
        "outputId": "7cda401c-4197-41cb-ce62-1713f50e9a44"
      },
      "outputs": [
        {
          "data": {
            "text/plain": [
              "0    18.125873\n",
              "1    13.178814\n",
              "dtype: float64"
            ]
          },
          "execution_count": 17,
          "metadata": {},
          "output_type": "execute_result"
        }
      ],
      "source": [
        "model.predict(data_pred)"
      ]
    },
    {
      "cell_type": "markdown",
      "id": "528db63f",
      "metadata": {
        "id": "528db63f"
      },
      "source": [
        "# #Finding Best model\n",
        "# y ~ sqrt(x)"
      ]
    },
    {
      "cell_type": "code",
      "execution_count": null,
      "id": "8684fb10",
      "metadata": {
        "id": "8684fb10"
      },
      "outputs": [],
      "source": [
        "x=np.sqrt(time1['Sorting_time'])"
      ]
    },
    {
      "cell_type": "code",
      "execution_count": null,
      "id": "feeee249",
      "metadata": {
        "id": "feeee249",
        "outputId": "8395367d-cea1-4f06-8162-fc11795df627"
      },
      "outputs": [
        {
          "data": {
            "text/plain": [
              "0    3.162278\n",
              "1    2.000000\n",
              "2    2.449490\n",
              "3    3.000000\n",
              "4    3.162278\n",
              "Name: Sorting_time, dtype: float64"
            ]
          },
          "execution_count": 19,
          "metadata": {},
          "output_type": "execute_result"
        }
      ],
      "source": [
        "x.head()"
      ]
    },
    {
      "cell_type": "code",
      "execution_count": null,
      "id": "01b76447",
      "metadata": {
        "id": "01b76447"
      },
      "outputs": [],
      "source": [
        "model = smf.ols(\"Delivery_time~x\",data = time1).fit()"
      ]
    },
    {
      "cell_type": "code",
      "execution_count": null,
      "id": "f882ae0b",
      "metadata": {
        "id": "f882ae0b",
        "outputId": "30db20d1-1d11-471e-b52f-fd872b8d6a9f"
      },
      "outputs": [
        {
          "data": {
            "text/plain": [
              "(0.695806227630867, 0.6797960290851232)"
            ]
          },
          "execution_count": 21,
          "metadata": {},
          "output_type": "execute_result"
        }
      ],
      "source": [
        "model.rsquared ,model.rsquared_adj"
      ]
    },
    {
      "cell_type": "markdown",
      "id": "45e50e72",
      "metadata": {
        "id": "45e50e72"
      },
      "source": [
        "# To improve Rsquare value now we check for  sqrt(y) ~ x"
      ]
    },
    {
      "cell_type": "code",
      "execution_count": null,
      "id": "ff5ed774",
      "metadata": {
        "id": "ff5ed774"
      },
      "outputs": [],
      "source": [
        "y=np.sqrt(time1['Delivery_time'])"
      ]
    },
    {
      "cell_type": "code",
      "execution_count": null,
      "id": "331617bb",
      "metadata": {
        "id": "331617bb",
        "outputId": "3bedbca9-a10f-40b9-e7bb-0231e3932809"
      },
      "outputs": [
        {
          "data": {
            "text/plain": [
              "0     4.582576\n",
              "1     3.674235\n",
              "2     4.444097\n",
              "3     4.898979\n",
              "4     5.385165\n",
              "5     3.917908\n",
              "6     4.358899\n",
              "7     3.082207\n",
              "8     4.230839\n",
              "9     4.330127\n",
              "10    4.453089\n",
              "11    3.278719\n",
              "12    4.084116\n",
              "13    3.391165\n",
              "14    3.468429\n",
              "15    3.857460\n",
              "16    3.708099\n",
              "17    4.255585\n",
              "18    2.828427\n",
              "19    4.222558\n",
              "20    4.636809\n",
              "Name: Delivery_time, dtype: float64"
            ]
          },
          "execution_count": 23,
          "metadata": {},
          "output_type": "execute_result"
        }
      ],
      "source": [
        "y"
      ]
    },
    {
      "cell_type": "code",
      "execution_count": null,
      "id": "fa3ff5cc",
      "metadata": {
        "id": "fa3ff5cc"
      },
      "outputs": [],
      "source": [
        "model = smf.ols(\"y~Sorting_time\",data = time1).fit()"
      ]
    },
    {
      "cell_type": "code",
      "execution_count": null,
      "id": "fdf495ba",
      "metadata": {
        "id": "fdf495ba",
        "outputId": "61e4fd40-6f90-42c7-f8e3-5238fc395f5f"
      },
      "outputs": [
        {
          "data": {
            "text/plain": [
              "(0.704049871541756, 0.6884735489913221)"
            ]
          },
          "execution_count": 25,
          "metadata": {},
          "output_type": "execute_result"
        }
      ],
      "source": [
        "model.rsquared ,model.rsquared_adj"
      ]
    },
    {
      "cell_type": "markdown",
      "id": "e6421cae",
      "metadata": {
        "id": "e6421cae"
      },
      "source": [
        "# For further imorovement check for sqrt(y) ~ sqrt(x)"
      ]
    },
    {
      "cell_type": "code",
      "execution_count": null,
      "id": "e9177401",
      "metadata": {
        "id": "e9177401"
      },
      "outputs": [],
      "source": [
        "model = smf.ols(\"y~x\",data = time1).fit()"
      ]
    },
    {
      "cell_type": "code",
      "execution_count": null,
      "id": "1c33e2a4",
      "metadata": {
        "id": "1c33e2a4",
        "outputId": "5aa5bffe-6b69-4d87-98ec-993ebf834df3"
      },
      "outputs": [
        {
          "data": {
            "text/plain": [
              "(0.7292011987544665, 0.7149486302678596)"
            ]
          },
          "execution_count": 27,
          "metadata": {},
          "output_type": "execute_result"
        }
      ],
      "source": [
        "model.rsquared ,model.rsquared_adj"
      ]
    },
    {
      "cell_type": "markdown",
      "id": "244e165a",
      "metadata": {
        "id": "244e165a"
      },
      "source": [
        "# Check for log(y) ~ lof(x)"
      ]
    },
    {
      "cell_type": "code",
      "execution_count": null,
      "id": "bf8e886b",
      "metadata": {
        "id": "bf8e886b"
      },
      "outputs": [],
      "source": [
        "y=np.log(time1['Delivery_time'])\n",
        "x=np.log(time1['Sorting_time'])"
      ]
    },
    {
      "cell_type": "code",
      "execution_count": null,
      "id": "65e79c2d",
      "metadata": {
        "id": "65e79c2d",
        "outputId": "c6ce28eb-6985-449e-c5d7-7506809ff96e"
      },
      "outputs": [
        {
          "data": {
            "text/plain": [
              "0     3.044522\n",
              "1     2.602690\n",
              "2     2.983153\n",
              "3     3.178054\n",
              "4     3.367296\n",
              "5     2.731115\n",
              "6     2.944439\n",
              "7     2.251292\n",
              "8     2.884801\n",
              "9     2.931194\n",
              "10    2.987196\n",
              "11    2.374906\n",
              "12    2.814210\n",
              "13    2.442347\n",
              "14    2.487404\n",
              "15    2.700018\n",
              "16    2.621039\n",
              "17    2.896464\n",
              "18    2.079442\n",
              "19    2.880882\n",
              "20    3.068053\n",
              "Name: Delivery_time, dtype: float64"
            ]
          },
          "execution_count": 29,
          "metadata": {},
          "output_type": "execute_result"
        }
      ],
      "source": [
        "y"
      ]
    },
    {
      "cell_type": "code",
      "execution_count": null,
      "id": "939d2a5d",
      "metadata": {
        "id": "939d2a5d",
        "outputId": "a1a2cd04-ef70-4959-ead2-5878b9e3c566"
      },
      "outputs": [
        {
          "data": {
            "text/plain": [
              "0     2.302585\n",
              "1     1.386294\n",
              "2     1.791759\n",
              "3     2.197225\n",
              "4     2.302585\n",
              "5     1.791759\n",
              "6     1.945910\n",
              "7     1.098612\n",
              "8     2.302585\n",
              "9     2.197225\n",
              "10    2.079442\n",
              "11    1.386294\n",
              "12    1.945910\n",
              "13    1.098612\n",
              "14    1.098612\n",
              "15    1.386294\n",
              "16    1.791759\n",
              "17    1.945910\n",
              "18    0.693147\n",
              "19    1.945910\n",
              "20    1.609438\n",
              "Name: Sorting_time, dtype: float64"
            ]
          },
          "execution_count": 30,
          "metadata": {},
          "output_type": "execute_result"
        }
      ],
      "source": [
        "x"
      ]
    },
    {
      "cell_type": "code",
      "execution_count": null,
      "id": "c9b25204",
      "metadata": {
        "id": "c9b25204"
      },
      "outputs": [],
      "source": [
        "model = smf.ols(\"y~x\",data = time1).fit()"
      ]
    },
    {
      "cell_type": "code",
      "execution_count": null,
      "id": "eaaf8f78",
      "metadata": {
        "id": "eaaf8f78",
        "outputId": "5e4345e7-ee0e-4287-d8a4-441586041044"
      },
      "outputs": [
        {
          "data": {
            "text/plain": [
              "(0.77216134926874, 0.7601698413355158)"
            ]
          },
          "execution_count": 32,
          "metadata": {},
          "output_type": "execute_result"
        }
      ],
      "source": [
        "model.rsquared ,model.rsquared_adj"
      ]
    },
    {
      "cell_type": "code",
      "execution_count": null,
      "id": "c09cdf17",
      "metadata": {
        "id": "c09cdf17"
      },
      "outputs": [],
      "source": [
        "# When y ~ x then rsquare=68.22%  ...................For Best model, rsquare value should be more than 0.85 or 85%\n",
        "# When y ~ sqrt(x) then rsquare=69.58%\n",
        "# When sqrt(y) ~ x then rsquare=70.40%\n",
        "# When sqrt(y) ~ sqrt(x) rsquare=72.92%\n",
        "# When log(y) ~ log(x) rsquare=77.21% ...............This is the best model as rsquare value is improved upto 77%"
      ]
    },
    {
      "cell_type": "code",
      "execution_count": null,
      "id": "b2b11e26",
      "metadata": {
        "id": "b2b11e26"
      },
      "outputs": [],
      "source": []
    }
  ],
  "metadata": {
    "kernelspec": {
      "display_name": "Python 3",
      "language": "python",
      "name": "python3"
    },
    "language_info": {
      "codemirror_mode": {
        "name": "ipython",
        "version": 3
      },
      "file_extension": ".py",
      "mimetype": "text/x-python",
      "name": "python",
      "nbconvert_exporter": "python",
      "pygments_lexer": "ipython3",
      "version": "3.8.8"
    },
    "colab": {
      "provenance": []
    }
  },
  "nbformat": 4,
  "nbformat_minor": 5
}