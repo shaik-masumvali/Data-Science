{
  "cells": [
    {
      "cell_type": "markdown",
      "id": "df226b67",
      "metadata": {
        "id": "df226b67"
      },
      "source": [
        "# Assignment 4 (Simple Linear Regression)-Q2"
      ]
    },
    {
      "cell_type": "code",
      "execution_count": null,
      "id": "8cce97a3",
      "metadata": {
        "id": "8cce97a3"
      },
      "outputs": [],
      "source": [
        "import pandas as pd\n",
        "import seaborn as sns\n",
        "import numpy as np\n",
        "import statsmodels.formula.api as smf"
      ]
    },
    {
      "cell_type": "code",
      "execution_count": null,
      "id": "2e14ad0e",
      "metadata": {
        "id": "2e14ad0e"
      },
      "outputs": [],
      "source": [
        "# import dataset\n",
        "salary=pd.read_csv('C:/Users/Masum/Downloads/Salary_Data.csv')"
      ]
    },
    {
      "cell_type": "code",
      "execution_count": null,
      "id": "11bc4b29",
      "metadata": {
        "id": "11bc4b29",
        "outputId": "907f83f1-59a9-40c0-8759-c0dfc4d0d612"
      },
      "outputs": [
        {
          "data": {
            "text/html": [
              "<div>\n",
              "<style scoped>\n",
              "    .dataframe tbody tr th:only-of-type {\n",
              "        vertical-align: middle;\n",
              "    }\n",
              "\n",
              "    .dataframe tbody tr th {\n",
              "        vertical-align: top;\n",
              "    }\n",
              "\n",
              "    .dataframe thead th {\n",
              "        text-align: right;\n",
              "    }\n",
              "</style>\n",
              "<table border=\"1\" class=\"dataframe\">\n",
              "  <thead>\n",
              "    <tr style=\"text-align: right;\">\n",
              "      <th></th>\n",
              "      <th>YearsExperience</th>\n",
              "      <th>Salary</th>\n",
              "    </tr>\n",
              "  </thead>\n",
              "  <tbody>\n",
              "    <tr>\n",
              "      <th>0</th>\n",
              "      <td>1.1</td>\n",
              "      <td>39343.0</td>\n",
              "    </tr>\n",
              "    <tr>\n",
              "      <th>1</th>\n",
              "      <td>1.3</td>\n",
              "      <td>46205.0</td>\n",
              "    </tr>\n",
              "    <tr>\n",
              "      <th>2</th>\n",
              "      <td>1.5</td>\n",
              "      <td>37731.0</td>\n",
              "    </tr>\n",
              "    <tr>\n",
              "      <th>3</th>\n",
              "      <td>2.0</td>\n",
              "      <td>43525.0</td>\n",
              "    </tr>\n",
              "    <tr>\n",
              "      <th>4</th>\n",
              "      <td>2.2</td>\n",
              "      <td>39891.0</td>\n",
              "    </tr>\n",
              "  </tbody>\n",
              "</table>\n",
              "</div>"
            ],
            "text/plain": [
              "   YearsExperience   Salary\n",
              "0              1.1  39343.0\n",
              "1              1.3  46205.0\n",
              "2              1.5  37731.0\n",
              "3              2.0  43525.0\n",
              "4              2.2  39891.0"
            ]
          },
          "execution_count": 4,
          "metadata": {},
          "output_type": "execute_result"
        }
      ],
      "source": [
        "salary.head()"
      ]
    },
    {
      "cell_type": "code",
      "execution_count": null,
      "id": "0d42c393",
      "metadata": {
        "id": "0d42c393",
        "outputId": "d8db7213-e972-4790-b063-52997f958f0d"
      },
      "outputs": [
        {
          "data": {
            "text/plain": [
              "(30, 2)"
            ]
          },
          "execution_count": 6,
          "metadata": {},
          "output_type": "execute_result"
        }
      ],
      "source": [
        "# size of dataset(row x column)\n",
        "salary.shape"
      ]
    },
    {
      "cell_type": "markdown",
      "id": "1eb12fad",
      "metadata": {
        "id": "1eb12fad"
      },
      "source": [
        "# EDA and Data Visualization"
      ]
    },
    {
      "cell_type": "code",
      "execution_count": null,
      "id": "e37f3b83",
      "metadata": {
        "id": "e37f3b83",
        "outputId": "d3ff6703-6a79-46f2-8b35-8a40e6a393ff"
      },
      "outputs": [
        {
          "name": "stdout",
          "output_type": "stream",
          "text": [
            "<class 'pandas.core.frame.DataFrame'>\n",
            "RangeIndex: 30 entries, 0 to 29\n",
            "Data columns (total 2 columns):\n",
            " #   Column           Non-Null Count  Dtype  \n",
            "---  ------           --------------  -----  \n",
            " 0   YearsExperience  30 non-null     float64\n",
            " 1   Salary           30 non-null     float64\n",
            "dtypes: float64(2)\n",
            "memory usage: 608.0 bytes\n"
          ]
        }
      ],
      "source": [
        "salary.info()"
      ]
    },
    {
      "cell_type": "code",
      "execution_count": null,
      "id": "05b8625f",
      "metadata": {
        "id": "05b8625f",
        "outputId": "3447ec3e-c015-4fe9-b2e0-232bbd63e90d"
      },
      "outputs": [
        {
          "data": {
            "text/html": [
              "<div>\n",
              "<style scoped>\n",
              "    .dataframe tbody tr th:only-of-type {\n",
              "        vertical-align: middle;\n",
              "    }\n",
              "\n",
              "    .dataframe tbody tr th {\n",
              "        vertical-align: top;\n",
              "    }\n",
              "\n",
              "    .dataframe thead th {\n",
              "        text-align: right;\n",
              "    }\n",
              "</style>\n",
              "<table border=\"1\" class=\"dataframe\">\n",
              "  <thead>\n",
              "    <tr style=\"text-align: right;\">\n",
              "      <th></th>\n",
              "      <th>YearsExperience</th>\n",
              "      <th>Salary</th>\n",
              "    </tr>\n",
              "  </thead>\n",
              "  <tbody>\n",
              "    <tr>\n",
              "      <th>YearsExperience</th>\n",
              "      <td>1.000000</td>\n",
              "      <td>0.978242</td>\n",
              "    </tr>\n",
              "    <tr>\n",
              "      <th>Salary</th>\n",
              "      <td>0.978242</td>\n",
              "      <td>1.000000</td>\n",
              "    </tr>\n",
              "  </tbody>\n",
              "</table>\n",
              "</div>"
            ],
            "text/plain": [
              "                 YearsExperience    Salary\n",
              "YearsExperience         1.000000  0.978242\n",
              "Salary                  0.978242  1.000000"
            ]
          },
          "execution_count": 8,
          "metadata": {},
          "output_type": "execute_result"
        }
      ],
      "source": [
        "# Correlation\n",
        "salary.corr()"
      ]
    },
    {
      "cell_type": "code",
      "execution_count": null,
      "id": "3b43b187",
      "metadata": {
        "id": "3b43b187",
        "outputId": "32d94fb7-3d73-4fd9-80e6-ea5a06a92dc3"
      },
      "outputs": [
        {
          "name": "stderr",
          "output_type": "stream",
          "text": [
            "C:\\Users\\Lenovo\\anaconda3\\lib\\site-packages\\seaborn\\distributions.py:2557: FutureWarning: `distplot` is a deprecated function and will be removed in a future version. Please adapt your code to use either `displot` (a figure-level function with similar flexibility) or `histplot` (an axes-level function for histograms).\n",
            "  warnings.warn(msg, FutureWarning)\n"
          ]
        },
        {
          "data": {
            "text/plain": [
              "<AxesSubplot:xlabel='YearsExperience', ylabel='Density'>"
            ]
          },
          "execution_count": 9,
          "metadata": {},
          "output_type": "execute_result"
        },
        {
          "data": {
            "image/png": "[encoded data removed]",
            "text/plain": [
              "<Figure size 432x288 with 1 Axes>"
            ]
          },
          "metadata": {
            "needs_background": "light"
          },
          "output_type": "display_data"
        }
      ],
      "source": [
        "sns.distplot(salary['YearsExperience'])"
      ]
    },
    {
      "cell_type": "code",
      "execution_count": null,
      "id": "cb92fcec",
      "metadata": {
        "id": "cb92fcec",
        "outputId": "c9089aa1-cf73-4459-b73a-95b960e83d99"
      },
      "outputs": [
        {
          "name": "stderr",
          "output_type": "stream",
          "text": [
            "C:\\Users\\Lenovo\\anaconda3\\lib\\site-packages\\seaborn\\distributions.py:2557: FutureWarning: `distplot` is a deprecated function and will be removed in a future version. Please adapt your code to use either `displot` (a figure-level function with similar flexibility) or `histplot` (an axes-level function for histograms).\n",
            "  warnings.warn(msg, FutureWarning)\n"
          ]
        },
        {
          "data": {
            "text/plain": [
              "<AxesSubplot:xlabel='Salary', ylabel='Density'>"
            ]
          },
          "execution_count": 10,
          "metadata": {},
          "output_type": "execute_result"
        },
        {
          "data": {
            "image/png": "[encoded data removed]",
            "text/plain": [
              "<Figure size 432x288 with 1 Axes>"
            ]
          },
          "metadata": {
            "needs_background": "light"
          },
          "output_type": "display_data"
        }
      ],
      "source": [
        "sns.distplot(salary['Salary'])"
      ]
    },
    {
      "cell_type": "markdown",
      "id": "116a65f0",
      "metadata": {
        "id": "116a65f0"
      },
      "source": [
        "# Model Building"
      ]
    },
    {
      "cell_type": "code",
      "execution_count": null,
      "id": "e1a938d7",
      "metadata": {
        "id": "e1a938d7"
      },
      "outputs": [],
      "source": [
        "model=smf.ols(\"Salary~YearsExperience\",data=salary).fit()   # y ~ x"
      ]
    },
    {
      "cell_type": "code",
      "execution_count": null,
      "id": "b4fd31dd",
      "metadata": {
        "id": "b4fd31dd",
        "outputId": "853b1dd3-7efc-48a2-9cf1-b3ced082032c"
      },
      "outputs": [
        {
          "data": {
            "text/plain": [
              "<AxesSubplot:xlabel='YearsExperience', ylabel='Salary'>"
            ]
          },
          "execution_count": 12,
          "metadata": {},
          "output_type": "execute_result"
        },
        {
          "data": {
            "image/png": "[encoded data removed]",
            "text/plain": [
              "<Figure size 432x288 with 1 Axes>"
            ]
          },
          "metadata": {
            "needs_background": "light"
          },
          "output_type": "display_data"
        }
      ],
      "source": [
        "# Regression graph\n",
        "sns.regplot(x='YearsExperience',y='Salary',data=salary)"
      ]
    },
    {
      "cell_type": "code",
      "execution_count": null,
      "id": "f3236728",
      "metadata": {
        "id": "f3236728",
        "outputId": "af75494b-8628-41f8-c161-1c12f8098ed9"
      },
      "outputs": [
        {
          "data": {
            "text/plain": [
              "Intercept          25792.200199\n",
              "YearsExperience     9449.962321\n",
              "dtype: float64"
            ]
          },
          "execution_count": 13,
          "metadata": {},
          "output_type": "execute_result"
        }
      ],
      "source": [
        "# Coefficient parameters\n",
        "model.params"
      ]
    },
    {
      "cell_type": "code",
      "execution_count": null,
      "id": "f977e08f",
      "metadata": {
        "id": "f977e08f",
        "outputId": "9b48d8d5-890a-429c-ca9c-5a96e78eaa31"
      },
      "outputs": [
        {
          "data": {
            "text/plain": [
              "(Intercept          11.346940\n",
              " YearsExperience    24.950094\n",
              " dtype: float64,\n",
              " Intercept          5.511950e-12\n",
              " YearsExperience    1.143068e-20\n",
              " dtype: float64)"
            ]
          },
          "execution_count": 14,
          "metadata": {},
          "output_type": "execute_result"
        }
      ],
      "source": [
        "# t-value and p-value\n",
        "model.tvalues , model.pvalues"
      ]
    },
    {
      "cell_type": "code",
      "execution_count": null,
      "id": "e53d35ac",
      "metadata": {
        "id": "e53d35ac",
        "outputId": "e46332c4-367e-430c-cf75-7e5ef1da8a87"
      },
      "outputs": [
        {
          "data": {
            "text/plain": [
              "(0.9569566641435086, 0.9554194021486339)"
            ]
          },
          "execution_count": 15,
          "metadata": {},
          "output_type": "execute_result"
        }
      ],
      "source": [
        "# Rsquared values\n",
        "model.rsquared , model.rsquared_adj"
      ]
    },
    {
      "cell_type": "code",
      "execution_count": null,
      "id": "ed978fa4",
      "metadata": {
        "id": "ed978fa4",
        "outputId": "62ebe395-c449-4fd0-c323-88a833886ddb"
      },
      "outputs": [
        {
          "data": {
            "text/plain": [
              "82491.97379999999"
            ]
          },
          "execution_count": 16,
          "metadata": {},
          "output_type": "execute_result"
        }
      ],
      "source": [
        "# Manual prediction for say sorting time 6\n",
        "Salary_hike = (25792.200) + (9449.9623)*(6)    # y = mx + c (Intercept c = 25792.200 & Slope m =9449.9623)\n",
        "Salary_hike"
      ]
    },
    {
      "cell_type": "code",
      "execution_count": null,
      "id": "6daf3787",
      "metadata": {
        "id": "6daf3787",
        "outputId": "d50275d8-ded3-4897-c992-d0220d07666e"
      },
      "outputs": [
        {
          "data": {
            "text/plain": [
              "0    4\n",
              "1    6\n",
              "dtype: int64"
            ]
          },
          "execution_count": 17,
          "metadata": {},
          "output_type": "execute_result"
        }
      ],
      "source": [
        "# Automatic Prediction for say sorting time 4 , 6\n",
        "newdata=pd.Series([4,6])\n",
        "newdata"
      ]
    },
    {
      "cell_type": "code",
      "execution_count": null,
      "id": "31a6ccbb",
      "metadata": {
        "id": "31a6ccbb"
      },
      "outputs": [],
      "source": [
        "# Predict values\n",
        "data_pred=pd.DataFrame(newdata,columns=['YearsExperience'])"
      ]
    },
    {
      "cell_type": "code",
      "execution_count": null,
      "id": "dada8fe8",
      "metadata": {
        "id": "dada8fe8",
        "outputId": "6e352197-25d2-4b40-b191-3cdb4761a176"
      },
      "outputs": [
        {
          "data": {
            "text/plain": [
              "0    63592.049484\n",
              "1    82491.974127\n",
              "dtype: float64"
            ]
          },
          "execution_count": 19,
          "metadata": {},
          "output_type": "execute_result"
        }
      ],
      "source": [
        "model.predict(data_pred)"
      ]
    },
    {
      "cell_type": "code",
      "execution_count": null,
      "id": "1932c5c8",
      "metadata": {
        "id": "1932c5c8"
      },
      "outputs": [],
      "source": [
        "# We know that for Best model, Rsquare value should be more then 0.85 or 85%\n",
        "# Here Rsquare value=0.9569 or 95.69% i.e. this is the best model(Rsquare > 85%)"
      ]
    }
  ],
  "metadata": {
    "kernelspec": {
      "display_name": "Python 3",
      "language": "python",
      "name": "python3"
    },
    "language_info": {
      "codemirror_mode": {
        "name": "ipython",
        "version": 3
      },
      "file_extension": ".py",
      "mimetype": "text/x-python",
      "name": "python",
      "nbconvert_exporter": "python",
      "pygments_lexer": "ipython3",
      "version": "3.8.8"
    },
    "colab": {
      "provenance": []
    }
  },
  "nbformat": 4,
  "nbformat_minor": 5
}